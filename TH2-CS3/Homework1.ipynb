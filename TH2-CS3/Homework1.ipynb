{
 "cells": [
  {
   "cell_type": "code",
   "execution_count": 2,
   "id": "d9c55fe0-5e48-4f0b-9c8a-3c6d406991c8",
   "metadata": {},
   "outputs": [
    {
     "name": "stdin",
     "output_type": "stream",
     "text": [
      "Nhập n: 3\n"
     ]
    },
    {
     "name": "stdout",
     "output_type": "stream",
     "text": [
      "6\n"
     ]
    }
   ],
   "source": [
    "#Bài 1\n",
    "n=int(input('Nhập n:'))\n",
    "print(n*2)"
   ]
  },
  {
   "cell_type": "code",
   "execution_count": 26,
   "id": "3bb4d0aa-30ac-4412-a39e-2288cf9252d7",
   "metadata": {},
   "outputs": [
    {
     "name": "stdin",
     "output_type": "stream",
     "text": [
      " 3.4 4.5\n"
     ]
    },
    {
     "name": "stdout",
     "output_type": "stream",
     "text": [
      "Phần diện tích còn để trồng cây:6.23\n"
     ]
    }
   ],
   "source": [
    "#Bài 2\n",
    "a, b= map(float, input().split())\n",
    "pi=3.14\n",
    "print(f\"Phần diện tích còn để trồng cây:{(a*b - pi*(a/2)**2):.2f}\")"
   ]
  },
  {
   "cell_type": "code",
   "execution_count": 44,
   "id": "dd361b63-6241-4fac-8943-344cdec8fe26",
   "metadata": {},
   "outputs": [
    {
     "name": "stdin",
     "output_type": "stream",
     "text": [
      "Nhập kí tự: z\n"
     ]
    },
    {
     "name": "stdout",
     "output_type": "stream",
     "text": [
      "Z\n",
      "122\n"
     ]
    }
   ],
   "source": [
    "#Bài 3\n",
    "c=input('Nhập kí tự:')\n",
    "if (ord(c)<97):\n",
    "    print(chr(ord(c)+32))\n",
    "else:\n",
    "    print(chr(ord(c)-32))"
   ]
  },
  {
   "cell_type": "code",
   "execution_count": 47,
   "id": "d0c4add4-8978-43a9-9f6d-69cb55011817",
   "metadata": {},
   "outputs": [
    {
     "name": "stdin",
     "output_type": "stream",
     "text": [
      " Z\n"
     ]
    },
    {
     "name": "stdout",
     "output_type": "stream",
     "text": [
      "Z là kí tự alphabet\n"
     ]
    }
   ],
   "source": [
    "#Bài 4\n",
    "c=input()\n",
    "if (ord(c)>=65 and ord(c)<=122):\n",
    "    print(f\"{c} là kí tự alphabet\")\n",
    "else:\n",
    "    print(f\"{c} không phải là kí tự alphabet\")"
   ]
  },
  {
   "cell_type": "code",
   "execution_count": 49,
   "id": "37e55355-c50b-44a6-b2a1-71b424cd9ed5",
   "metadata": {},
   "outputs": [
    {
     "name": "stdin",
     "output_type": "stream",
     "text": [
      " Z\n"
     ]
    },
    {
     "name": "stdout",
     "output_type": "stream",
     "text": [
      "y\n"
     ]
    }
   ],
   "source": [
    "#Bài 5\n",
    "c=input()\n",
    "if (ord(c) >65 and ord(c)<=97):\n",
    "    print(chr(ord(c)+31))\n",
    "if (ord(c)==65):\n",
    "    print(\"không có chữ cái thường liền trước\")"
   ]
  },
  {
   "cell_type": "code",
   "execution_count": 22,
   "id": "5e1e9c5c-499a-477f-b5e1-cea79dd6bc37",
   "metadata": {},
   "outputs": [
    {
     "name": "stdin",
     "output_type": "stream",
     "text": [
      " 3 4 5\n"
     ]
    },
    {
     "name": "stdout",
     "output_type": "stream",
     "text": [
      "Diện tích tam giác là: S=6.0\n"
     ]
    }
   ],
   "source": [
    "#Bài 6\n",
    "a, b, c= map(float, input().split())\n",
    "import math as m\n",
    "if (a+b>c and a+c>b and b+c>a):\n",
    "    p=(a+b+c)/2\n",
    "    print(f\"Diện tích tam giác là: S={(m.sqrt(p*(p-a)*(p-b)*(p-c))):.1f}\")\n",
    "else:\n",
    "    print(\"Không phải 3 cạnh của tam giác\")"
   ]
  },
  {
   "cell_type": "code",
   "execution_count": 19,
   "id": "17677a1b-b098-4e75-a4b8-86b51ae6cdb9",
   "metadata": {},
   "outputs": [
    {
     "name": "stdin",
     "output_type": "stream",
     "text": [
      "Nhập chuỗi êmmemememeemem\n"
     ]
    },
    {
     "name": "stdout",
     "output_type": "stream",
     "text": [
      "Nhập lại chuỗi với độ dài ít nhất 20\n"
     ]
    },
    {
     "name": "stdin",
     "output_type": "stream",
     "text": [
      "Nhập chuỗi memoaemooaeao\n"
     ]
    },
    {
     "name": "stdout",
     "output_type": "stream",
     "text": [
      "Nhập lại chuỗi với độ dài ít nhất 20\n"
     ]
    },
    {
     "name": "stdin",
     "output_type": "stream",
     "text": [
      "Nhập chuỗi mmaeoeaameooaoeoeame\n"
     ]
    },
    {
     "name": "stdout",
     "output_type": "stream",
     "text": [
      "chữ cái thứ 5 của chuỗi: o \n",
      "chữ cái thứ 9 của chuỗi: m\n"
     ]
    }
   ],
   "source": [
    "#Bài 7\n",
    "while True:\n",
    "    s=input('Nhập chuỗi')\n",
    "    if (len(s) >=20):\n",
    "        print(\"chữ cái thứ 5 của chuỗi:\", s[4],\"\\nchữ cái thứ 9 của chuỗi:\", s[8])\n",
    "        break\n",
    "    else:\n",
    "        print(\"Nhập lại chuỗi với độ dài ít nhất 20\")"
   ]
  },
  {
   "cell_type": "code",
   "execution_count": null,
   "id": "1e4c3f28-f673-4cca-8350-60a6b2f5f59f",
   "metadata": {},
   "outputs": [],
   "source": [
    "#Bài 8\n"
   ]
  }
 ],
 "metadata": {
  "kernelspec": {
   "display_name": "Python 3 (ipykernel)",
   "language": "python",
   "name": "python3"
  },
  "language_info": {
   "codemirror_mode": {
    "name": "ipython",
    "version": 3
   },
   "file_extension": ".py",
   "mimetype": "text/x-python",
   "name": "python",
   "nbconvert_exporter": "python",
   "pygments_lexer": "ipython3",
   "version": "3.13.7"
  }
 },
 "nbformat": 4,
 "nbformat_minor": 5
}
