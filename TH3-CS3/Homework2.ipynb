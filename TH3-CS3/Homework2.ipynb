{
 "cells": [
  {
   "cell_type": "code",
   "execution_count": 2,
   "id": "57830a11-4c69-4bc8-b710-7ff50fb13975",
   "metadata": {},
   "outputs": [
    {
     "name": "stdin",
     "output_type": "stream",
     "text": [
      "Nhập cạnh dài 3\n",
      "Nhập cạnh rộng 4\n"
     ]
    },
    {
     "name": "stdout",
     "output_type": "stream",
     "text": [
      "Diện tích hình chữ nhật:12.0 \n",
      "Chu vi hình chữ nhật: 14.0\n"
     ]
    }
   ],
   "source": [
    "#Bài 1\n",
    "a=float(input(\"Nhập cạnh dài\"))\n",
    "b=float(input(\"Nhập cạnh rộng\"))\n",
    "print(f\"Diện tích hình chữ nhật:{a*b} \\nChu vi hình chữ nhật: {2*(a+b)}\")"
   ]
  },
  {
   "cell_type": "code",
   "execution_count": 5,
   "id": "ecb3948d-9f2c-4e4c-b403-e16b8b08f974",
   "metadata": {},
   "outputs": [
    {
     "name": "stdin",
     "output_type": "stream",
     "text": [
      " 4\n"
     ]
    },
    {
     "name": "stdout",
     "output_type": "stream",
     "text": [
      "Diện tích hình tròn:50.26548245743669 \n",
      "Chu vi hình tròn: 25.132741228718345\n"
     ]
    }
   ],
   "source": [
    "#Bài 2\n",
    "r=float(input())\n",
    "import math\n",
    "print(f\"Diện tích hình tròn:{(math.pi)*(r**2)} \\nChu vi hình tròn: {2*(math.pi)*r}\")"
   ]
  },
  {
   "cell_type": "code",
   "execution_count": null,
   "id": "24906817-44e5-4102-9c9a-edd3f41dd83f",
   "metadata": {},
   "outputs": [],
   "source": []
  }
 ],
 "metadata": {
  "kernelspec": {
   "display_name": "Python 3 (ipykernel)",
   "language": "python",
   "name": "python3"
  },
  "language_info": {
   "codemirror_mode": {
    "name": "ipython",
    "version": 3
   },
   "file_extension": ".py",
   "mimetype": "text/x-python",
   "name": "python",
   "nbconvert_exporter": "python",
   "pygments_lexer": "ipython3",
   "version": "3.13.7"
  }
 },
 "nbformat": 4,
 "nbformat_minor": 5
}
